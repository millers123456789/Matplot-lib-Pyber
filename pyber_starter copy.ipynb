{
 "cells": [
  {
   "cell_type": "code",
   "execution_count": 32,
   "metadata": {},
   "outputs": [
    {
     "name": "stdout",
     "output_type": "stream",
     "text": [
      "city\n",
      "Amandaburgh             24.641667\n",
      "Barajasview             25.332273\n",
      "Carriemouth             28.314444\n",
      "Christopherfurt         24.501852\n",
      "Deanville               25.842632\n",
      "East Kaylahaven         23.757931\n",
      "Erikaland               24.906667\n",
      "Grahamburgh             25.221200\n",
      "Huntermouth             28.993750\n",
      "Hurleymouth             25.891429\n",
      "Jerryton                25.649200\n",
      "Johnton                 26.785714\n",
      "Joneschester            22.289600\n",
      "Justinberg              23.694333\n",
      "Karenberg               26.340000\n",
      "Karenside               27.453571\n",
      "Lake Danielberg         24.844231\n",
      "Lake Jonathanshire      23.425833\n",
      "Lake Scottton           23.809167\n",
      "Leahton                 21.243810\n",
      "Liumouth                26.150000\n",
      "Loganberg               25.292500\n",
      "Martinezhaven           22.651250\n",
      "New Jacobville          26.765556\n",
      "New Kimberlyborough     22.589000\n",
      "New Paulton             27.820000\n",
      "New Paulville           21.675909\n",
      "North Barbara           23.494091\n",
      "North Jasmine           25.205333\n",
      "North Jason             22.743714\n",
      "                          ...    \n",
      "Port Johnbury           23.006364\n",
      "Port Samanthamouth      25.642800\n",
      "Raymondhaven            21.480400\n",
      "Reynoldsfurt            21.919474\n",
      "Richardfort             22.373214\n",
      "Roberthaven             23.729167\n",
      "Robertport              23.060500\n",
      "Rodneyfort              28.616957\n",
      "Rogerston               22.097727\n",
      "Royland                 20.570667\n",
      "Simpsonburgh            23.355833\n",
      "South Evanton           26.726129\n",
      "South Jack              22.965263\n",
      "South Karenland         26.535526\n",
      "South Latoya            20.093158\n",
      "South Michelleport      24.451613\n",
      "South Phillip           28.571290\n",
      "Valentineton            24.636364\n",
      "West Angela             25.990000\n",
      "West Anthony            24.736667\n",
      "West Christopherberg    24.421154\n",
      "West Ericstad           22.347222\n",
      "West Gabriel            20.346087\n",
      "West Heidi              23.133929\n",
      "West Josephberg         21.720385\n",
      "West Patrickchester     28.233125\n",
      "West Robert             25.123871\n",
      "West Samuelburgh        21.767600\n",
      "Williamsstad            24.362174\n",
      "Williamsview            26.599000\n",
      "Name: fare, Length: 66, dtype: float64\n",
      "city\n",
      "Barronchester         36.422500\n",
      "Bethanyland           32.956111\n",
      "Brandonfort           35.437368\n",
      "Colemanland           30.894545\n",
      "Davidfurt             31.995882\n",
      "East Aaronbury        25.661111\n",
      "East Danielview       31.560588\n",
      "East Kentstad         29.823077\n",
      "East Marymouth        30.835185\n",
      "Grayville             27.763333\n",
      "Josephside            32.858148\n",
      "Lake Ann              30.890000\n",
      "Lake Omar             28.075000\n",
      "Lake Robertside       31.262000\n",
      "Lake Scott            31.886111\n",
      "Lewishaven            25.241667\n",
      "Lewisland             34.614118\n",
      "Mezachester           30.760000\n",
      "Myersshire            30.203125\n",
      "New Olivia            34.054118\n",
      "New Raymond           27.961818\n",
      "New Shannonberg       28.378235\n",
      "Nicolechester         30.909474\n",
      "North Jeffrey         29.242308\n",
      "North Richardhaven    24.704286\n",
      "North Timothy         31.262000\n",
      "Port Shane            31.077895\n",
      "Rodriguezview         30.745333\n",
      "Sotoville             31.980000\n",
      "South Brenda          33.964583\n",
      "South Teresa          31.220455\n",
      "Veronicaberg          32.828235\n",
      "Victoriaport          27.780000\n",
      "West Hannah           29.547619\n",
      "West Kimmouth         29.871500\n",
      "Williamsonville       31.875000\n",
      "Name: fare, dtype: float64\n"
     ]
    },
    {
     "data": {
      "text/plain": [
       "city\n",
       "Amandaburgh             12.0\n",
       "Barajasview             26.0\n",
       "Carriemouth             52.0\n",
       "Christopherfurt         41.0\n",
       "Deanville               49.0\n",
       "East Kaylahaven         65.0\n",
       "Erikaland               37.0\n",
       "Grahamburgh             61.0\n",
       "Huntermouth             37.0\n",
       "Hurleymouth             36.0\n",
       "Jerryton                64.0\n",
       "Johnton                 27.0\n",
       "Joneschester            39.0\n",
       "Justinberg              39.0\n",
       "Karenberg               22.0\n",
       "Karenside                5.0\n",
       "Lake Danielberg         19.0\n",
       "Lake Jonathanshire       5.0\n",
       "Lake Scottton           58.0\n",
       "Leahton                 17.0\n",
       "Liumouth                69.0\n",
       "Loganberg               23.0\n",
       "Martinezhaven           25.0\n",
       "New Jacobville          50.0\n",
       "New Kimberlyborough     33.0\n",
       "New Paulton             44.0\n",
       "New Paulville           44.0\n",
       "North Barbara           18.0\n",
       "North Jasmine           33.0\n",
       "North Jason              6.0\n",
       "                        ... \n",
       "Port Johnbury            3.0\n",
       "Port Samanthamouth      57.0\n",
       "Raymondhaven            11.0\n",
       "Reynoldsfurt            67.0\n",
       "Richardfort             38.0\n",
       "Roberthaven             47.0\n",
       "Robertport              12.0\n",
       "Rodneyfort              34.0\n",
       "Rogerston               25.0\n",
       "Royland                 64.0\n",
       "Simpsonburgh            21.0\n",
       "South Evanton           11.0\n",
       "South Jack              46.0\n",
       "South Karenland          4.0\n",
       "South Latoya            10.0\n",
       "South Michelleport      72.0\n",
       "South Phillip           38.0\n",
       "Valentineton            45.0\n",
       "West Angela             48.0\n",
       "West Anthony            70.0\n",
       "West Christopherberg    32.0\n",
       "West Ericstad           25.0\n",
       "West Gabriel            57.0\n",
       "West Heidi              28.0\n",
       "West Josephberg         45.0\n",
       "West Patrickchester     25.0\n",
       "West Robert             39.0\n",
       "West Samuelburgh        73.0\n",
       "Williamsstad            59.0\n",
       "Williamsview            46.0\n",
       "Name: driver_count, Length: 66, dtype: float64"
      ]
     },
     "execution_count": 32,
     "metadata": {},
     "output_type": "execute_result"
    }
   ],
   "source": [
    "%matplotlib inline\n",
    "# Dependencies and Setup\n",
    "import matplotlib.pyplot as plt\n",
    "import pandas as pd\n",
    "import numpy as np\n",
    "\n",
    "# File to Load (Remember to change these)\n",
    "city_data_to_load = \"data/city_data.csv\"\n",
    "ride_data_to_load = \"data/ride_data.csv\"\n",
    "\n",
    "# Read the City and Ride Data\n",
    "city_data = pd.read_csv(city_data_to_load)\n",
    "ride_data = pd.read_csv(ride_data_to_load)\n",
    "# Combine the data into a single dataset\n",
    "#read the data sets individually\n",
    "#city_data_grouped=city_data.groupby('city')\n",
    "#city_data_grouped.head()\n",
    "city_data_complete = pd.merge(ride_data,city_data,on = 'city', how='left')\n",
    "# # Display the data table for preview\n",
    "#city_data_mean =city_data_complete.groupby('city').mean()\n",
    "#print(city_data_mean.head())\n",
    "city_data_grouped = city_data_complete.groupby('city')\n",
    "city_data_grouped.head()\n",
    "average_city = city_data_grouped.mean()\n",
    "average_city.head()\n",
    "count_rows_city = city_data_grouped.count()\n",
    "count_rows_city\n",
    "rides_per_city=city_data_grouped['ride_id'].count()\n",
    "average_fare=city_data_grouped.mean()\n",
    "\n",
    "average_fare.head(150)\n",
    "count_rows_city.head(140)\n",
    "\n",
    "count_rows_city['ride_id'].head()\n",
    "#This will be our y-axis as seen the scatter plot\n",
    "average_fare['fare'].head(140)\n",
    "count_rows_city['ride_id'].head()\n",
    "driver_count = average_city['driver_count']\n",
    "\n",
    "city_data_complete\n",
    "city_data_complete_grouped = city_data_complete.groupby('city')\n",
    "\n",
    "\n",
    "city_data.head()\n",
    "city_data_grouped.head()\n",
    "#We need to group the cityies by type\n",
    "city_type = city_data.groupby('type')\n",
    "city_type.head(150)\n",
    "\n",
    "#isolate the type \n",
    "Urban =city_data_complete[city_data_complete['type'] ==\"Urban\"] \n",
    "Urban.head()\n",
    "Urban_fare_type =Urban.groupby('city').mean()['fare']\n",
    "Urban_ride_type = Urban.groupby('city').count()['ride_id']\n",
    "Urban_count_type = Urban.groupby('city').mean()['driver_count']\n",
    "\n",
    "print(Urban_fare_type)\n",
    "\n",
    "#seperate the Suburban types and display them\n",
    "Suburban =city_data_complete[city_data_complete['type'] ==\"Suburban\"] \n",
    "Suburban.head()\n",
    "Suburban_fare_type =Suburban.groupby('city').mean()['fare']\n",
    "Suburban_ride_type = Suburban.groupby('city').count()['ride_id']\n",
    "Suburban_count_type = Suburban.groupby('city').mean()['driver_count']\n",
    "print(Suburban_fare_type)\n",
    "\n",
    "#seperate the Rural types and display them\n",
    "Rural =city_data_complete[city_data_complete['type'] ==\"Rural\"] \n",
    "Rural.head()\n",
    "Rural_fare_type =Rural.groupby('city').mean()['fare']\n",
    "Rural_ride_type = Rural.groupby('city').count()['ride_id']\n",
    "Rural_count_type = Rural.groupby('city').mean()['driver_count']\n",
    "#mean for ride_id and fare\n",
    "#count for driver count\n",
    "\n",
    "Urban_count_type\n"
   ]
  },
  {
   "cell_type": "code",
   "execution_count": 33,
   "metadata": {
    "scrolled": true
   },
   "outputs": [
    {
     "data": {
      "image/png": "[encoded data removed]",
      "text/plain": [
       "<Figure size 432x288 with 1 Axes>"
      ]
     },
     "metadata": {},
     "output_type": "display_data"
    }
   ],
   "source": [
    "\n",
    "\n",
    "x_axis=[Urban_ride_type,\n",
    "    Suburban_ride_type,\n",
    "    Rural_ride_type]\n",
    "y_axis = [Urban_fare_type,\n",
    "Suburban_fare_type,\n",
    "Rural_fare_type]\n",
    "color =['red','blue','yellow']\n",
    "count_type_size = [Urban_count_type,\n",
    "Suburban_count_type,\n",
    "Rural_count_type]\n",
    "for x in range(3):\n",
    "    plt.scatter(x_axis[x], y_axis[x], marker=\"o\",c= color[x], edgecolors=\"black\",\n",
    "            s=(count_type_size[x]*10), alpha=0.5)\n",
    "plt.title(\"Fare Per Ride type\")\n",
    "plt.xlabel(\"Ride Type\")\n",
    "plt.ylabel(\"Fare\")\n",
    "\n",
    "plt.savefig(\"../Images/Bubbleplotridesharing.png\")\n",
    "plt.show()\n",
    "\n",
    "\n",
    "# The size of each point on our plot is determined by their x value\n"
   ]
  },
  {
   "cell_type": "markdown",
   "metadata": {},
   "source": [
    "## Bubble Plot of Ride Sharing Data"
   ]
  },
  {
   "cell_type": "code",
   "execution_count": 34,
   "metadata": {},
   "outputs": [],
   "source": [
    "# Obtain the x and y coordinates for each of the three city types\n",
    "\n",
    "# Build the scatter plots for each city types\n",
    "\n",
    "# Incorporate the other graph properties\n",
    "\n",
    "# Create a legend\n",
    "\n",
    "# Incorporate a text label regarding circle size\n",
    "\n",
    "# Save Figure\n"
   ]
  },
  {
   "cell_type": "code",
   "execution_count": 35,
   "metadata": {},
   "outputs": [],
   "source": [
    "# Show plot\n",
    "plt.show()"
   ]
  },
  {
   "cell_type": "markdown",
   "metadata": {},
   "source": [
    "## Total Fares by City Type"
   ]
  },
  {
   "cell_type": "code",
   "execution_count": 36,
   "metadata": {},
   "outputs": [
    {
     "name": "stdout",
     "output_type": "stream",
     "text": [
      "63538.64\n",
      "39854.380000000005\n",
      "19356.33\n",
      "4327.929999999999\n",
      "62.72463496228438\n",
      "30.46387206273222\n",
      "6.81149297498341\n"
     ]
    },
    {
     "data": {
      "image/png": "[encoded data removed]",
      "text/plain": [
       "<Figure size 432x288 with 1 Axes>"
      ]
     },
     "metadata": {},
     "output_type": "display_data"
    },
    {
     "data": {
      "text/plain": [
       "<Figure size 432x288 with 0 Axes>"
      ]
     },
     "metadata": {},
     "output_type": "display_data"
    }
   ],
   "source": [
    "# Calculate Type Percents\n",
    "#see the data\n",
    "city_data_complete.head()\n",
    "#set index to type\n",
    "df = city_data_complete.set_index('type')\n",
    "df.head(200)\n",
    "#count amount of each type with conditional \n",
    "count_type_urban = 0\n",
    "types=city_data_complete['type']\n",
    "fares = city_data_complete['fare']\n",
    "fares\n",
    "fares_sum = fares.sum()\n",
    "print(fares_sum)\n",
    "\n",
    "\n",
    "#seperate the urban types and display them\n",
    "Urban =city_data_complete.loc[city_data_complete['type'] ==\"Urban\" ,:]\n",
    "Urban.head()\n",
    "Urban_fare_type =Urban['fare'].sum()\n",
    "print(Urban_fare_type)\n",
    "\n",
    "#seperate the Suburban types and display them\n",
    "Suburban =city_data_complete.loc[city_data_complete['type'] ==\"Suburban\" ,:]\n",
    "Suburban.head()\n",
    "Suburban_fare_type =Suburban['fare'].sum()\n",
    "print(Suburban_fare_type)\n",
    "\n",
    "#seperate the Rural types and display them\n",
    "Rural =city_data_complete.loc[city_data_complete['type'] ==\"Rural\" ,:]\n",
    "Rural.head()\n",
    "Rural_fare_type =Rural['fare'].sum()\n",
    "print(Rural_fare_type)\n",
    "\n",
    "#\n",
    "Percent_Urban = (Urban_fare_type/fares_sum)*100\n",
    "print(Percent_Urban)\n",
    "Percent_Suburban = (Suburban_fare_type/fares_sum)*100\n",
    "print(Percent_Suburban)\n",
    "Percent_Rural = (Rural_fare_type/fares_sum)*100\n",
    "print(Percent_Rural)\n",
    "# Build Pie Chart\n",
    "city_types = [\"Urban\", \"Suburban\", \"Rural\"]\n",
    "count = [Percent_Urban, Percent_Suburban, Percent_Rural]\n",
    "colors = [\"red\", \"lightskyblue\", \"yellow\"]\n",
    "explode = (0.1, 0.0, 0)\n",
    "plt.title(\"% of Total Fares by City Type\")\n",
    "plt.pie(count, explode=explode, labels=city_types, colors=colors,\n",
    "        autopct=\"%1.1f%%\", shadow=True, startangle=270)\n",
    "plt.axis(\"equal\")\n",
    "plt.show()\n",
    "# Save Figure\n",
    "plt.savefig(\"../Images/% of Total Fares by City Type.png\")\n",
    "plt.show()"
   ]
  },
  {
   "cell_type": "code",
   "execution_count": 37,
   "metadata": {},
   "outputs": [],
   "source": [
    "# Show Figure\n",
    "plt.show()"
   ]
  },
  {
   "cell_type": "markdown",
   "metadata": {},
   "source": [
    "## Total Rides by City Type"
   ]
  },
  {
   "cell_type": "code",
   "execution_count": 38,
   "metadata": {},
   "outputs": [
    {
     "name": "stdout",
     "output_type": "stream",
     "text": [
      "1625\n",
      "625\n",
      "125\n",
      "68.42105263157895\n",
      "26.31578947368421\n",
      "5.263157894736842\n"
     ]
    },
    {
     "data": {
      "image/png": "[encoded data removed]",
      "text/plain": [
       "<Figure size 432x288 with 1 Axes>"
      ]
     },
     "metadata": {},
     "output_type": "display_data"
    },
    {
     "data": {
      "text/plain": [
       "<Figure size 432x288 with 0 Axes>"
      ]
     },
     "metadata": {},
     "output_type": "display_data"
    }
   ],
   "source": [
    "# Calculate Ride Percents\n",
    "city_data_complete.head()\n",
    "city_data_complete['ride_id'].value_counts()\n",
    "#seperate the urban types and display them\n",
    "Urban =city_data_complete.loc[city_data_complete['type'] ==\"Urban\" ,:]\n",
    "Urban.head()\n",
    "Urban_fare_type =Urban['ride_id'].count()\n",
    "print(Urban_fare_type)\n",
    "\n",
    "#seperate the Suburban types and display them\n",
    "Suburban =city_data_complete.loc[city_data_complete['type'] ==\"Suburban\" ,:]\n",
    "Suburban.head()\n",
    "Suburban_fare_type =Suburban['ride_id'].count()\n",
    "print(Suburban_fare_type)\n",
    "\n",
    "#seperate the Rural types and display them\n",
    "Rural =city_data_complete.loc[city_data_complete['type'] ==\"Rural\" ,:]\n",
    "Rural.head()\n",
    "Rural_fare_type =Rural['ride_id'].count()\n",
    "print(Rural_fare_type)\n",
    "total_type_rides = Rural_fare_type +Urban_fare_type + Suburban_fare_type\n",
    "total_type_rides\n",
    "percent_urban_ride = (Urban_fare_type/total_type_rides) *100\n",
    "print(percent_urban_ride)\n",
    "percent_Suburban_ride =(Suburban_fare_type/total_type_rides) *100\n",
    "print(percent_Suburban_ride)\n",
    "percent_Rural_ride = (Rural_fare_type/total_type_rides) *100\n",
    "print(percent_Rural_ride)\n",
    "# Build Pie Chart\n",
    "city_types = [\"Urban\", \"Suburban\", \"Rural\"]\n",
    "count = [percent_urban_ride, percent_Suburban_ride, percent_Rural_ride]\n",
    "colors = [\"red\", \"lightskyblue\", \"yellow\"]\n",
    "explode = (0.1, 0.0, 0)\n",
    "plt.title(\"% of Total Rides by City Type\")\n",
    "plt.pie(count, explode=explode, labels=city_types, colors=colors,\n",
    "        autopct=\"%1.1f%%\", shadow=True, startangle=270)\n",
    "plt.axis(\"equal\")\n",
    "plt.show()\n",
    "\n",
    "# Save Figure\n",
    "plt.savefig(\"../Images/% of Total Rides by City Type.png\")\n",
    "plt.show()"
   ]
  },
  {
   "cell_type": "code",
   "execution_count": 39,
   "metadata": {},
   "outputs": [],
   "source": [
    "# Show Figure\n",
    "plt.show()"
   ]
  },
  {
   "cell_type": "markdown",
   "metadata": {},
   "source": [
    "## Total Drivers by City Type"
   ]
  },
  {
   "cell_type": "code",
   "execution_count": 40,
   "metadata": {},
   "outputs": [
    {
     "name": "stdout",
     "output_type": "stream",
     "text": [
      "2405.0\n",
      "490.0\n",
      "78.0\n",
      "80.89471913891691\n",
      "16.481668348469558\n",
      "2.6236125126135215\n"
     ]
    },
    {
     "data": {
      "image/png": "[encoded data removed]",
      "text/plain": [
       "<Figure size 432x288 with 1 Axes>"
      ]
     },
     "metadata": {},
     "output_type": "display_data"
    },
    {
     "data": {
      "text/plain": [
       "<Figure size 432x288 with 0 Axes>"
      ]
     },
     "metadata": {},
     "output_type": "display_data"
    }
   ],
   "source": [
    "# Calculate Driver Percents\n",
    "urban_driver_type = Urban['driver_count'].sum()\n",
    "#print(urban_driver_type)\n",
    "Suburban_driver_type = Suburban['driver_count'].sum()\n",
    "#print(Suburban_driver_type)\n",
    "Rural_driver_type = Rural['driver_count'].sum()\n",
    "#print(Rural_driver_type)\n",
    "total_driver = urban_driver_type + Suburban_driver_type + Rural_driver_type\n",
    "#print(total_driver)\n",
    "percent_urban_drive = (urban_driver_type/total_driver) *100\n",
    "percent_suburban_drive = (Suburban_driver_type/total_driver)*100\n",
    "percent_rural_drive = (Rural_driver_type/total_driver)*100\n",
    "\n",
    "#print(percent_urban_drive)\n",
    "#print(percent_suburban_drive)\n",
    "#print(percent_rural_drive)\n",
    "Urban.head()\n",
    "Urban_count_type1 = Urban.groupby('city').mean()['driver_count']\n",
    "Suburban_count_type1 = Suburban.groupby('city').mean()['driver_count']\n",
    "Rural_count_type1 = Rural.groupby('city').mean()['driver_count']\n",
    "\n",
    "#find the total amount of drivers per each city for each type\n",
    "Urban_driver_count_sum = Urban_count_type1.sum()\n",
    "Suburban_driver_count_sum = Suburban_count_type1.sum()\n",
    "Rural_driver_count_sum =Rural_count_type1.sum()\n",
    "print(Urban_driver_count_sum)\n",
    "print(Suburban_driver_count_sum )\n",
    "print(Rural_driver_count_sum) \n",
    "total_finally = Urban_driver_count_sum + Suburban_driver_count_sum + Rural_driver_count_sum\n",
    "total_finally\n",
    "percent_urban_driver = (Urban_driver_count_sum/total_finally)*100\n",
    "print(percent_urban_driver)\n",
    "\n",
    "\n",
    "percent_suburban_driver = (Suburban_driver_count_sum/total_finally)*100\n",
    "print(percent_suburban_driver)\n",
    "percent_rural_driver = (Rural_driver_count_sum/total_finally)*100\n",
    "print(percent_rural_driver)\n",
    "city_types = [\"Urban\", \"Suburban\", \"Rural\"]\n",
    "count = [percent_urban_driver, percent_suburban_driver, percent_rural_driver]\n",
    "colors = [\"red\", \"lightskyblue\", \"yellow\"]\n",
    "explode = (0.1, 0.0, 0)\n",
    "plt.title(\"% of Total Drivers by City Type\")\n",
    "plt.pie(count, explode=explode, labels=city_types, colors=colors,\n",
    "        autopct=\"%1.1f%%\", shadow=True, startangle=270)\n",
    "plt.axis(\"equal\")\n",
    "plt.show()\n",
    "# Build Pie Charts\n",
    "\n",
    "# Save Figure\n",
    "plt.savefig(\"../Images/% of Total Drivers by City Type.png\")\n",
    "plt.show()"
   ]
  },
  {
   "cell_type": "code",
   "execution_count": 41,
   "metadata": {
    "scrolled": true
   },
   "outputs": [],
   "source": [
    "# Show Figure\n",
    "plt.show()"
   ]
  },
  {
   "cell_type": "code",
   "execution_count": null,
   "metadata": {},
   "outputs": [],
   "source": []
  }
 ],
 "metadata": {
  "anaconda-cloud": {},
  "kernelspec": {
   "display_name": "Python [default]",
   "language": "python",
   "name": "python3"
  },
  "language_info": {
   "codemirror_mode": {
    "name": "ipython",
    "version": 3
   },
   "file_extension": ".py",
   "mimetype": "text/x-python",
   "name": "python",
   "nbconvert_exporter": "python",
   "pygments_lexer": "ipython3",
   "version": "3.6.5"
  }
 },
 "nbformat": 4,
 "nbformat_minor": 2
}
